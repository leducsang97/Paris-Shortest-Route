{
 "cells": [
  {
   "cell_type": "markdown",
   "metadata": {},
   "source": [
    "# How to walk the least in Paris"
   ]
  },
  {
   "cell_type": "markdown",
   "metadata": {},
   "source": [
    "In memory of Notre Dame, I plan to go to Paris. From my experience, the first question I always ask in the morning is where I should go first. I search for 10 most famous place in Paris and decide to walk between places. The objective for this worksheet is to find the shortest path to go between 10 places."
   ]
  },
  {
   "cell_type": "code",
   "execution_count": 1,
   "metadata": {},
   "outputs": [],
   "source": [
    "import os\n",
    "import pandas as pd\n",
    "import numpy as np\n",
    "from sklearn.metrics import mean_squared_error\n",
    "import pylab as pl\n",
    "from pylab import rcParams\n",
    "rcParams['figure.figsize'] = 12, 8\n",
    "import matplotlib.pyplot as pl\n",
    "import seaborn as sns\n",
    "import googlemaps\n",
    "from itertools import tee\n",
    "from IPython.display import HTML"
   ]
  },
  {
   "cell_type": "code",
   "execution_count": 2,
   "metadata": {},
   "outputs": [],
   "source": [
    "API_key = 'AI____' #Replace your API key\n",
    "gmaps = googlemaps.Client(key=API_key)"
   ]
  },
  {
   "cell_type": "markdown",
   "metadata": {},
   "source": [
    "We can only put at most 10 layers in google maps. Therefore, I reduce the amount of data to visualize the problem."
   ]
  },
  {
   "cell_type": "code",
   "execution_count": 3,
   "metadata": {},
   "outputs": [
    {
     "data": {
      "text/html": [
       "<div>\n",
       "<style scoped>\n",
       "    .dataframe tbody tr th:only-of-type {\n",
       "        vertical-align: middle;\n",
       "    }\n",
       "\n",
       "    .dataframe tbody tr th {\n",
       "        vertical-align: top;\n",
       "    }\n",
       "\n",
       "    .dataframe thead th {\n",
       "        text-align: right;\n",
       "    }\n",
       "</style>\n",
       "<table border=\"1\" class=\"dataframe\">\n",
       "  <thead>\n",
       "    <tr style=\"text-align: right;\">\n",
       "      <th></th>\n",
       "      <th>Name</th>\n",
       "      <th>Lat</th>\n",
       "      <th>Long</th>\n",
       "      <th>Code</th>\n",
       "    </tr>\n",
       "  </thead>\n",
       "  <tbody>\n",
       "    <tr>\n",
       "      <th>0</th>\n",
       "      <td>Eiffel Tower</td>\n",
       "      <td>48.858372</td>\n",
       "      <td>2.294481</td>\n",
       "      <td>0</td>\n",
       "    </tr>\n",
       "    <tr>\n",
       "      <th>1</th>\n",
       "      <td>Louvre Museum</td>\n",
       "      <td>48.860600</td>\n",
       "      <td>2.337600</td>\n",
       "      <td>1</td>\n",
       "    </tr>\n",
       "    <tr>\n",
       "      <th>2</th>\n",
       "      <td>Notre-Dame de Paris</td>\n",
       "      <td>48.853000</td>\n",
       "      <td>2.349900</td>\n",
       "      <td>2</td>\n",
       "    </tr>\n",
       "    <tr>\n",
       "      <th>3</th>\n",
       "      <td>Arc de Triomphe</td>\n",
       "      <td>48.873800</td>\n",
       "      <td>2.295000</td>\n",
       "      <td>3</td>\n",
       "    </tr>\n",
       "    <tr>\n",
       "      <th>4</th>\n",
       "      <td>Wall of Love</td>\n",
       "      <td>48.884600</td>\n",
       "      <td>2.338500</td>\n",
       "      <td>4</td>\n",
       "    </tr>\n",
       "    <tr>\n",
       "      <th>5</th>\n",
       "      <td>The Basilica of the Sacred Heart of Paris</td>\n",
       "      <td>48.886700</td>\n",
       "      <td>2.343100</td>\n",
       "      <td>5</td>\n",
       "    </tr>\n",
       "    <tr>\n",
       "      <th>6</th>\n",
       "      <td>Moulin Rouge</td>\n",
       "      <td>48.884100</td>\n",
       "      <td>2.332300</td>\n",
       "      <td>6</td>\n",
       "    </tr>\n",
       "    <tr>\n",
       "      <th>7</th>\n",
       "      <td>Museum</td>\n",
       "      <td>48.860000</td>\n",
       "      <td>2.326600</td>\n",
       "      <td>7</td>\n",
       "    </tr>\n",
       "    <tr>\n",
       "      <th>8</th>\n",
       "      <td>Tuileries Garden</td>\n",
       "      <td>48.863500</td>\n",
       "      <td>2.327500</td>\n",
       "      <td>8</td>\n",
       "    </tr>\n",
       "    <tr>\n",
       "      <th>9</th>\n",
       "      <td>Orangerie Museum</td>\n",
       "      <td>48.863800</td>\n",
       "      <td>2.322700</td>\n",
       "      <td>9</td>\n",
       "    </tr>\n",
       "  </tbody>\n",
       "</table>\n",
       "</div>"
      ],
      "text/plain": [
       "                                        Name        Lat      Long  Code\n",
       "0                               Eiffel Tower  48.858372  2.294481     0\n",
       "1                              Louvre Museum  48.860600  2.337600     1\n",
       "2                        Notre-Dame de Paris  48.853000  2.349900     2\n",
       "3                            Arc de Triomphe  48.873800  2.295000     3\n",
       "4                               Wall of Love  48.884600  2.338500     4\n",
       "5  The Basilica of the Sacred Heart of Paris  48.886700  2.343100     5\n",
       "6                               Moulin Rouge  48.884100  2.332300     6\n",
       "7                                     Museum  48.860000  2.326600     7\n",
       "8                           Tuileries Garden  48.863500  2.327500     8\n",
       "9                           Orangerie Museum  48.863800  2.322700     9"
      ]
     },
     "execution_count": 3,
     "metadata": {},
     "output_type": "execute_result"
    }
   ],
   "source": [
    "data = pd.read_csv('Paris_attraction.csv',  encoding='utf-8')\n",
    "data = data.iloc[:10,:]\n",
    "data['Code']=[0,1,2,3,4,5,6,7,8,9]\n",
    "locations = []\n",
    "for index,row in data.iterrows():\n",
    "    locations.append((row['Lat'],row['Long']))\n",
    "data"
   ]
  },
  {
   "cell_type": "markdown",
   "metadata": {},
   "source": [
    "# My estimation"
   ]
  },
  {
   "cell_type": "code",
   "execution_count": 4,
   "metadata": {},
   "outputs": [],
   "source": [
    "estimate =[(9,8),(8,1),(1,2),(2,7),(7,0),(0,3),(3,6),(6,4),(4,5),(5,9)]"
   ]
  },
  {
   "cell_type": "code",
   "execution_count": 5,
   "metadata": {},
   "outputs": [
    {
     "data": {
      "application/vnd.jupyter.widget-view+json": {
       "model_id": "82a4f047f17345e592532e35264b6632",
       "version_major": 2,
       "version_minor": 0
      },
      "text/plain": [
       "Figure(layout=FigureLayout(height='420px'))"
      ]
     },
     "metadata": {},
     "output_type": "display_data"
    }
   ],
   "source": [
    "# Latitude-longitude pairs\n",
    "import time \n",
    "import gmaps\n",
    "import gmaps.datasets\n",
    "gmaps.configure(api_key=API_key)\n",
    "fig = gmaps.figure()\n",
    "count = 0\n",
    "color =['#ffe119','#9A6324','#800000','#808000','#e6194B','#f58231','#bfef45','#3cb44b','#42d4f4','#4363d8','#911eb4','#fabebe','#f032e6','#a9a9a9','#000075']\n",
    "for i in estimate:\n",
    "    path = gmaps.directions_layer(locations[i[0]], locations[i[1]],stroke_color=color[count], show_markers=True, show_route=True, \n",
    "    travel_mode='WALKING', stroke_weight=6.0, stroke_opacity=1)\n",
    "    fig.add_layer(path)\n",
    "    count+=1\n",
    "fig"
   ]
  },
  {
   "cell_type": "markdown",
   "metadata": {},
   "source": [
    "![\"Myes\"]()"
   ]
  },
  {
   "cell_type": "markdown",
   "metadata": {},
   "source": [
    "This is my estimation when I first saw 10 places. There is a river in the middle so the most natural for me to guest is walk across the river as little as possible. The following code will estimate the amount of minute I have to walk base on Google Map"
   ]
  },
  {
   "cell_type": "code",
   "execution_count": 6,
   "metadata": {},
   "outputs": [
    {
     "name": "stdout",
     "output_type": "stream",
     "text": [
      "Total: 236\n"
     ]
    }
   ],
   "source": [
    "gmaps = googlemaps.Client(key=API_key)\n",
    "total = 0\n",
    "for i in estimate:\n",
    "    origins=locations[i[0]]\n",
    "    destination = locations[i[1]]\n",
    "    result = gmaps.distance_matrix(origins, destination, mode='walking')[\"rows\"]\n",
    "    dur = result[0]['elements'][0]['duration']['text']\n",
    "    minute = 0\n",
    "    a = [int(s) for s in dur.split() if s.isdigit()]\n",
    "    minute = 0\n",
    "    if len(a) == 2:\n",
    "        minute = a[0]*60+a[1]\n",
    "    else:\n",
    "        minute=a[0]\n",
    "    total+=int(minute)\n",
    "print(\"Total: \"+str(total))"
   ]
  },
  {
   "cell_type": "markdown",
   "metadata": {},
   "source": [
    "The total amout of minutes is 236. "
   ]
  },
  {
   "cell_type": "markdown",
   "metadata": {},
   "source": [
    "# Linear Programming "
   ]
  },
  {
   "cell_type": "markdown",
   "metadata": {},
   "source": [
    "We use Linear Programming to optimize the problem."
   ]
  },
  {
   "cell_type": "markdown",
   "metadata": {},
   "source": [
    "------ Block of ugly code. ------------\n",
    "\n",
    "-----Please ask me if you are interested-----"
   ]
  },
  {
   "cell_type": "code",
   "execution_count": 8,
   "metadata": {},
   "outputs": [
    {
     "name": "stdout",
     "output_type": "stream",
     "text": [
      "Changed value of parameter LazyConstraints to 1\n",
      "   Prev: 0  Min: 0  Max: 1  Default: 0\n",
      "Optimize a model with 10 rows, 55 columns and 100 nonzeros\n",
      "Variable types: 0 continuous, 55 integer (55 binary)\n",
      "Coefficient statistics:\n",
      "  Matrix range     [1e+00, 1e+00]\n",
      "  Objective range  [1e+00, 8e+01]\n",
      "  Bounds range     [1e+00, 1e+00]\n",
      "  RHS range        [2e+00, 2e+00]\n",
      "Presolve removed 0 rows and 10 columns\n",
      "Presolve time: 0.00s\n",
      "Presolved: 10 rows, 45 columns, 90 nonzeros\n",
      "Variable types: 0 continuous, 45 integer (45 binary)\n",
      "\n",
      "Root relaxation: objective 2.290000e+02, 18 iterations, 0.00 seconds\n",
      "\n",
      "    Nodes    |    Current Node    |     Objective Bounds      |     Work\n",
      " Expl Unexpl |  Obj  Depth IntInf | Incumbent    BestBd   Gap | It/Node Time\n",
      "\n",
      "*    0     0               0     229.0000000  229.00000  0.00%     -    0s\n",
      "\n",
      "Cutting planes:\n",
      "  Lazy constraints: 2\n",
      "\n",
      "Explored 0 nodes (18 simplex iterations) in 0.02 seconds\n",
      "Thread count was 8 (of 8 available processors)\n",
      "\n",
      "Solution count 1: 229 \n",
      "\n",
      "Optimal solution found (tolerance 1.00e-04)\n",
      "Best objective 2.290000000000e+02, best bound 2.290000000000e+02, gap 0.0000%\n",
      "{(0, 0): 0.0, (1, 0): -0.0, (0, 1): -0.0, (1, 1): 0.0, (2, 0): -0.0, (0, 2): -0.0, (2, 1): 1.0, (1, 2): 1.0, (2, 2): 0.0, (3, 0): 1.0, (0, 3): 1.0, (3, 1): -0.0, (1, 3): -0.0, (3, 2): -0.0, (2, 3): -0.0, (3, 3): 0.0, (4, 0): -0.0, (0, 4): -0.0, (4, 1): -0.0, (1, 4): -0.0, (4, 2): -0.0, (2, 4): -0.0, (4, 3): -0.0, (3, 4): -0.0, (4, 4): 0.0, (5, 0): -0.0, (0, 5): -0.0, (5, 1): 1.0, (1, 5): 1.0, (5, 2): -0.0, (2, 5): -0.0, (5, 3): 0.0, (3, 5): 0.0, (5, 4): 1.0, (4, 5): 1.0, (5, 5): 0.0, (6, 0): -0.0, (0, 6): -0.0, (6, 1): -0.0, (1, 6): -0.0, (6, 2): -0.0, (2, 6): -0.0, (6, 3): 1.0, (3, 6): 1.0, (6, 4): 1.0, (4, 6): 1.0, (6, 5): 0.0, (5, 6): 0.0, (6, 6): 0.0, (7, 0): 0.0, (0, 7): 0.0, (7, 1): -0.0, (1, 7): -0.0, (7, 2): 1.0, (2, 7): 1.0, (7, 3): -0.0, (3, 7): -0.0, (7, 4): -0.0, (4, 7): -0.0, (7, 5): -0.0, (5, 7): -0.0, (7, 6): -0.0, (6, 7): -0.0, (7, 7): 0.0, (8, 0): -0.0, (0, 8): -0.0, (8, 1): 0.0, (1, 8): 0.0, (8, 2): -0.0, (2, 8): -0.0, (8, 3): -0.0, (3, 8): -0.0, (8, 4): -0.0, (4, 8): -0.0, (8, 5): -0.0, (5, 8): -0.0, (8, 6): -0.0, (6, 8): -0.0, (8, 7): 1.0, (7, 8): 1.0, (8, 8): 0.0, (9, 0): 1.0, (0, 9): 1.0, (9, 1): -0.0, (1, 9): -0.0, (9, 2): -0.0, (2, 9): -0.0, (9, 3): -0.0, (3, 9): -0.0, (9, 4): -0.0, (4, 9): -0.0, (9, 5): -0.0, (5, 9): -0.0, (9, 6): -0.0, (6, 9): -0.0, (9, 7): 0.0, (7, 9): 0.0, (9, 8): 1.0, (8, 9): 1.0, (9, 9): 0.0}\n"
     ]
    }
   ],
   "source": [
    "import math\n",
    "import random\n",
    "from gurobipy import *\n",
    "\n",
    "\n",
    "# Callback - use lazy constraints to eliminate sub-tours\n",
    "\n",
    "def subtourelim(model, where):\n",
    "  if where == GRB.callback.MIPSOL:\n",
    "    selected = []\n",
    "    # make a list of edges selected in the solution\n",
    "    for i in range(n):\n",
    "      sol = model.cbGetSolution([model._vars[i,j] for j in range(n)])\n",
    "      selected += [(i,j) for j in range(n) if sol[j] > 0.5]\n",
    "    # find the shortest cycle in the selected edge list\n",
    "    tour = subtour(selected)\n",
    "    if len(tour) < n:\n",
    "      # add a subtour elimination constraint\n",
    "      expr = 0\n",
    "      for i in range(len(tour)):\n",
    "        for j in range(i+1, len(tour)):\n",
    "          expr += model._vars[tour[i], tour[j]]\n",
    "      model.cbLazy(expr <= len(tour)-1)\n",
    "\n",
    "\n",
    "# Euclidean distance between two points\n",
    "\n",
    "def distance(points, i, j):\n",
    "    ans = 0\n",
    "    origins = (points[i][0],points[i][1]) \n",
    "    destination = (points[j][0],points[j][1])\n",
    "    result = gmaps.distance_matrix(origins, destination, mode='walking')[\"rows\"]\n",
    "    dur = result[0]['elements'][0]['duration']['text']\n",
    "    minute = 0\n",
    "    a = [int(s) for s in dur.split() if s.isdigit()]\n",
    "    minute = 0\n",
    "    if len(a) == 2:\n",
    "        minute = a[0]*60+a[1]\n",
    "    else:\n",
    "        minute=a[0]\n",
    "#     dur_to_int.append(minute)\n",
    "    return minute\n",
    "\n",
    "# Given a list of edges, finds the shortest subtour\n",
    "\n",
    "def subtour(edges):\n",
    "  visited = [False]*n\n",
    "  cycles = []\n",
    "  lengths = []\n",
    "  selected = [[] for i in range(n)]\n",
    "  for x,y in edges:\n",
    "    selected[x].append(y)\n",
    "  while True:\n",
    "    current = visited.index(False)\n",
    "    thiscycle = [current]\n",
    "    while True:\n",
    "      visited[current] = True\n",
    "      neighbors = [x for x in selected[current] if not visited[x]]\n",
    "      if len(neighbors) == 0:\n",
    "        break\n",
    "      current = neighbors[0]\n",
    "      thiscycle.append(current)\n",
    "    cycles.append(thiscycle)\n",
    "    lengths.append(len(thiscycle))\n",
    "    if sum(lengths) == n:\n",
    "      break\n",
    "  return cycles[lengths.index(min(lengths))]\n",
    "\n",
    "n = 10\n",
    "\n",
    "# Create n random points\n",
    "\n",
    "random.seed(1)\n",
    "points = []\n",
    "\n",
    "# for i in range(n):\n",
    "#   points.append((1,2))\n",
    "\n",
    "for index,row in data.iterrows():\n",
    "    points.append((row['Lat'],row['Long']))\n",
    "    \n",
    "m = Model()\n",
    "\n",
    "\n",
    "# Create variables\n",
    "\n",
    "vars = {}\n",
    "for i in range(n):\n",
    "   for j in range(i+1):\n",
    "     vars[i,j] = m.addVar(obj=distance(points, i, j), vtype=GRB.BINARY,\n",
    "                          name='e'+str(i)+'_'+str(j))\n",
    "     vars[j,i] = vars[i,j]\n",
    "   m.update()\n",
    "\n",
    "\n",
    "# Add degree-2 constraint, and forbid loops\n",
    "\n",
    "for i in range(n):\n",
    "  m.addConstr(quicksum(vars[i,j] for j in range(n)) == 2)\n",
    "  vars[i,i].ub = 0\n",
    "\n",
    "m.update()\n",
    "\n",
    "\n",
    "# Optimize model\n",
    "\n",
    "m._vars = vars\n",
    "m.params.LazyConstraints = 1\n",
    "m.optimize(subtourelim)\n",
    "\n",
    "solution = m.getAttr('x', vars)\n",
    "selected = [(i,j) for i in range(n) for j in range(n) if solution[i,j] > 0.5]\n",
    "assert len(subtour(selected)) == n\n",
    "print(solution)"
   ]
  },
  {
   "cell_type": "markdown",
   "metadata": {},
   "source": [
    "The total amount of minute is 229."
   ]
  },
  {
   "cell_type": "markdown",
   "metadata": {},
   "source": [
    "Clean solution and put cleaned solution to sol array"
   ]
  },
  {
   "cell_type": "code",
   "execution_count": 9,
   "metadata": {},
   "outputs": [],
   "source": [
    "total = 0\n",
    "sol = {}\n",
    "count = True\n",
    "for i in solution:\n",
    "    if solution[i]==1.0 and count==True:\n",
    "        count +=1\n",
    "        sol[i] = solution[i]\n",
    "        count == False\n",
    "    elif solution[i]==1.0:\n",
    "        count=True"
   ]
  },
  {
   "cell_type": "code",
   "execution_count": 10,
   "metadata": {},
   "outputs": [],
   "source": [
    "import gmaps\n",
    "import gmaps.datasets\n",
    "gmaps.configure(api_key=API_key)"
   ]
  },
  {
   "cell_type": "code",
   "execution_count": 11,
   "metadata": {},
   "outputs": [],
   "source": [
    "fig = gmaps.figure()\n",
    "locations = []\n",
    "for index,row in data.iterrows():\n",
    "    locations.append((row['Lat'],row['Long']))"
   ]
  },
  {
   "cell_type": "code",
   "execution_count": 12,
   "metadata": {},
   "outputs": [
    {
     "data": {
      "application/vnd.jupyter.widget-view+json": {
       "model_id": "d1139b7641ff403aaf123fe30a05fa8c",
       "version_major": 2,
       "version_minor": 0
      },
      "text/plain": [
       "Figure(layout=FigureLayout(height='420px'))"
      ]
     },
     "metadata": {},
     "output_type": "display_data"
    }
   ],
   "source": [
    "# Latitude-longitude pairs\n",
    "import time \n",
    "fig = gmaps.figure()\n",
    "count = 0\n",
    "color =['#ffe119','#9A6324','#800000','#808000','#e6194B','#f58231','#bfef45','#3cb44b','#42d4f4','#4363d8','#911eb4','#fabebe','#f032e6','#a9a9a9','#000075']\n",
    "for i in sol:\n",
    "    if sol[i]==1.0 and count<10:\n",
    "        path = gmaps.directions_layer(locations[i[0]], locations[i[1]],stroke_color=color[count], show_markers=False, show_route=True, \n",
    "        travel_mode='WALKING', stroke_weight=6.0, stroke_opacity=1)\n",
    "        fig.add_layer(path)\n",
    "        count+=1\n",
    "fig"
   ]
  },
  {
   "cell_type": "code",
   "execution_count": 14,
   "metadata": {},
   "outputs": [
    {
     "name": "stdout",
     "output_type": "stream",
     "text": [
      "Total: 236\n"
     ]
    }
   ],
   "source": [
    "gmaps = googlemaps.Client(key=API_key)\n",
    "total = 0\n",
    "for i in estimate:\n",
    "    origins=locations[i[0]]\n",
    "    destination = locations[i[1]]\n",
    "    result = gmaps.distance_matrix(origins, destination, mode='walking')[\"rows\"]\n",
    "    dur = result[0]['elements'][0]['duration']['text']\n",
    "    minute = 0\n",
    "    a = [int(s) for s in dur.split() if s.isdigit()]\n",
    "    minute = 0\n",
    "    if len(a) == 2:\n",
    "        minute = a[0]*60+a[1]\n",
    "    else:\n",
    "        minute=a[0]\n",
    "    total+=int(minute)\n",
    "print(\"Total: \"+str(total))"
   ]
  },
  {
   "cell_type": "markdown",
   "metadata": {},
   "source": [
    "Using our estimation, the result is 236 minute. By doing optimization, we reduce the amount of walking by 7 minutes"
   ]
  }
 ],
 "metadata": {
  "kernelspec": {
   "display_name": "Python 3",
   "language": "python",
   "name": "python3"
  },
  "language_info": {
   "codemirror_mode": {
    "name": "ipython",
    "version": 3
   },
   "file_extension": ".py",
   "mimetype": "text/x-python",
   "name": "python",
   "nbconvert_exporter": "python",
   "pygments_lexer": "ipython3",
   "version": "3.7.1"
  }
 },
 "nbformat": 4,
 "nbformat_minor": 2
}
